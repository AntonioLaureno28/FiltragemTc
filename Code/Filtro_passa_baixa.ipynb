{
 "cells": [
  {
   "cell_type": "markdown",
   "metadata": {},
   "source": [
    "IMPORTANDO BIBLIOTECAS QUE IRÃO SER UTILIZADAS NO PROJETO\n"
   ]
  },
  {
   "cell_type": "code",
   "execution_count": 1,
   "metadata": {},
   "outputs": [],
   "source": [
    "import numpy as np\n",
    "import matplotlib.pyplot as plt\n",
    "from scipy.io.wavfile import read, write\n",
    "from numpy.fft import fft, ifft, fftfreq, fftshift\n",
    "from IPython.display import Audio as play"
   ]
  },
  {
   "cell_type": "markdown",
   "metadata": {},
   "source": [
    "FUNÇÃO AUXILIAR PARA PLOTAGEM DE UM VETOR NO DOMÍNIO DA FREQUÊNCIA EM dB"
   ]
  },
  {
   "cell_type": "code",
   "execution_count": 3,
   "metadata": {},
   "outputs": [],
   "source": [
    "def spectrum(x_freq):\n",
    "# \n",
    "# x_freq: vetor no domínio da frequência, complexo\n",
    "#\n",
    "    x_magnitude = np.abs(x)\n",
    "    # Normalização para o valor máximo ser 0dB\n",
    "    x_magnitude /= np.max(x_magnitude)\n",
    "    return 20*np.log10(x_magnitude)"
   ]
  },
  {
   "cell_type": "markdown",
   "metadata": {},
   "source": [
    "PRIMEIRO PASSO: Ler o arquivo .wav para obter o sinal x[n] em forma de vetor."
   ]
  },
  {
   "cell_type": "code",
   "execution_count": null,
   "metadata": {},
   "outputs": [],
   "source": []
  }
 ],
 "metadata": {
  "kernelspec": {
   "display_name": "Python 3",
   "language": "python",
   "name": "python3"
  },
  "language_info": {
   "codemirror_mode": {
    "name": "ipython",
    "version": 3
   },
   "file_extension": ".py",
   "mimetype": "text/x-python",
   "name": "python",
   "nbconvert_exporter": "python",
   "pygments_lexer": "ipython3",
   "version": "3.12.2"
  }
 },
 "nbformat": 4,
 "nbformat_minor": 2
}
